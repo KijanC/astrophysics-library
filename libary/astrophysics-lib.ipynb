{
 "cells": [
  {
   "cell_type": "code",
   "execution_count": null,
   "metadata": {},
   "outputs": [],
   "source": [
    "# gravitational force between to objects\n",
    "# F = ((m1 * m2) / r**2) * G\n",
    "\n",
    "def F(m1, m2, r):\n",
    "\n",
    "    G = 6,67 * 10 ^ -11\n",
    "    F = m1 * m2 \n",
    "    F = F / r ^ 2\n",
    "    F = F * G\n",
    "    \n",
    "    return F"
   ]
  },
  {
   "cell_type": "code",
   "execution_count": null,
   "metadata": {},
   "outputs": [],
   "source": [
    "# gravitational constant\n",
    "\n",
    "def gravitational_constant():\n",
    "    return 6,67 * 10 ^ -11"
   ]
  },
  {
   "cell_type": "code",
   "execution_count": null,
   "metadata": {},
   "outputs": [],
   "source": [
    "# force of a gravitational field\n",
    "# g = G * (m / r**2) \n",
    "\n",
    "def g(m, r):\n",
    "    G = 6,67 * 10 ^ -11\n",
    "    POWr = r ^ 2;\n",
    "    g = m / POWr\n",
    "    g = g * G\n",
    "    \n",
    "    return g"
   ]
  },
  {
   "cell_type": "code",
   "execution_count": null,
   "metadata": {},
   "outputs": [],
   "source": [
    "# potential energy of an object in a gravitational field\n",
    "# Epot = -G * ((m * m) / r)\n",
    "# r is the distance between the object and the centerpoint of the planet / star / black hole etc.\n",
    "\n",
    "def potential_energy(mK, mP, r):\n",
    "    G = 6,67 * 10 ^ -11\n",
    "    minG = G -2 * G\n",
    "    Epot = mK * mP\n",
    "    Epot = Epot/ r\n",
    "    Epot = Epot * minG\n",
    "    \n",
    "    return Epot"
   ]
  }
 ],
 "metadata": {
  "kernelspec": {
   "display_name": "Python 3.9.7 64-bit",
   "language": "python",
   "name": "python3"
  },
  "language_info": {
   "name": "python",
   "version": "3.9.7"
  },
  "orig_nbformat": 4,
  "vscode": {
   "interpreter": {
    "hash": "397704579725e15f5c7cb49fe5f0341eb7531c82d19f2c29d197e8b64ab5776b"
   }
  }
 },
 "nbformat": 4,
 "nbformat_minor": 2
}
